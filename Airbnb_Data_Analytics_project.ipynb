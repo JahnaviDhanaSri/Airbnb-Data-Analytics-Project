{
  "nbformat": 4,
  "nbformat_minor": 0,
  "metadata": {
    "colab": {
      "provenance": []
    },
    "kernelspec": {
      "name": "python3",
      "display_name": "Python 3"
    },
    "language_info": {
      "name": "python"
    }
  },
  "cells": [
    {
      "cell_type": "markdown",
      "source": [
        "1. **DATA IMPORT**\n",
        "\n",
        "I obtained the latest data from the Airbnb website of Amsterdam, North Holland, The Netherlands (3rd September, 2023).\n",
        "\n",
        "Please refer to this link: http://insideairbnb.com/get-the-data/\n",
        "\n",
        "The dataset we used is: listings.csv\n",
        "\n",
        "I started by transforming the untidy data into appropriate formats for analysis, and answering key questions such as:\n",
        "\n",
        "1. What is the average price per night of an Airbnb listing in Amsterdam?\n",
        "2. How does the average price of an Airbnb listing per month compare to the private rental market?\n",
        "3. How many adverts are for private rooms?\n",
        "4. How do Airbnb listing prices compare across the neighbourhood_cleansed?\n",
        "\n"
      ],
      "metadata": {
        "id": "CsNM-qTWwqgr"
      }
    },
    {
      "cell_type": "code",
      "execution_count": 27,
      "metadata": {
        "colab": {
          "base_uri": "https://localhost:8080/"
        },
        "id": "2fco7_pOdk8Y",
        "outputId": "43b0050b-24da-4dc8-d788-3161351a76c3"
      },
      "outputs": [
        {
          "output_type": "stream",
          "name": "stdout",
          "text": [
            "listings:        id                                        description host_name  \\\n",
            "0  761411  Really quiet, spacious and safe, a nice place ...    Xsjong   \n",
            "1  768274  Our cool and spacious loft is perfect for a st...     J & R   \n",
            "2  768737  Room to rent in my houseboat. The room has a p...    Nicole   \n",
            "3  771217  Spacious houseboat in Amsterdam, suitable for ...  Danielle   \n",
            "4  771343  Royal Bed & Coffee Room with a very comfortabl...    Marcel   \n",
            "\n",
            "  neighbourhood_cleansed        room_type    price last_review  \n",
            "0             Noord-Oost     Private room   $61.00  2023-08-19  \n",
            "1             Westerpark  Entire home/apt  $327.00  2023-08-16  \n",
            "2             Westerpark     Private room  $109.00  2023-08-24  \n",
            "3                   Zuid  Entire home/apt  $290.00  2019-01-02  \n",
            "4           Centrum-West     Private room  $150.00  2023-09-01   \n",
            "\n"
          ]
        }
      ],
      "source": [
        "import pandas as pd\n",
        "import numpy as np\n",
        "import datetime as dt\n",
        "# for this project we only need \"id\",\"host_name\",\"last_review\",\"price\",\"neighbourhood_cleansed\",\"description\",\"room_type\" columns.\n",
        "listings = pd.read_csv(\"listings.csv\",usecols=[\"id\",\"host_name\",\"last_review\",\"price\",\"neighbourhood_cleansed\",\"description\",\"room_type\"])\n",
        "print(f\"listings: {listings.head()}\",\"\\n\",)"
      ]
    },
    {
      "cell_type": "markdown",
      "source": [
        "Now let's get the column names and respective data types.\n",
        "This info helps us in better data handling."
      ],
      "metadata": {
        "id": "p1REgkwfzmnG"
      }
    },
    {
      "cell_type": "code",
      "source": [
        "listings.info()"
      ],
      "metadata": {
        "colab": {
          "base_uri": "https://localhost:8080/"
        },
        "id": "6cG1gTyFd-Mq",
        "outputId": "96d6168e-7ea7-4284-8c89-ab637299cf93"
      },
      "execution_count": 28,
      "outputs": [
        {
          "output_type": "stream",
          "name": "stdout",
          "text": [
            "<class 'pandas.core.frame.DataFrame'>\n",
            "RangeIndex: 8386 entries, 0 to 8385\n",
            "Data columns (total 7 columns):\n",
            " #   Column                  Non-Null Count  Dtype \n",
            "---  ------                  --------------  ----- \n",
            " 0   id                      8386 non-null   int64 \n",
            " 1   description             8385 non-null   object\n",
            " 2   host_name               8386 non-null   object\n",
            " 3   neighbourhood_cleansed  8386 non-null   object\n",
            " 4   room_type               8386 non-null   object\n",
            " 5   price                   8386 non-null   object\n",
            " 6   last_review             7556 non-null   object\n",
            "dtypes: int64(1), object(6)\n",
            "memory usage: 458.7+ KB\n"
          ]
        }
      ]
    },
    {
      "cell_type": "markdown",
      "source": [
        "Let's examine the data attribute-wise."
      ],
      "metadata": {
        "id": "CDgmhsXB0O-7"
      }
    },
    {
      "cell_type": "code",
      "source": [
        "listings.head()"
      ],
      "metadata": {
        "colab": {
          "base_uri": "https://localhost:8080/",
          "height": 206
        },
        "id": "UyGY_mKpeBaE",
        "outputId": "98981d60-99e4-4940-f876-319ee054f1f8"
      },
      "execution_count": 29,
      "outputs": [
        {
          "output_type": "execute_result",
          "data": {
            "text/plain": [
              "       id                                        description host_name  \\\n",
              "0  761411  Really quiet, spacious and safe, a nice place ...    Xsjong   \n",
              "1  768274  Our cool and spacious loft is perfect for a st...     J & R   \n",
              "2  768737  Room to rent in my houseboat. The room has a p...    Nicole   \n",
              "3  771217  Spacious houseboat in Amsterdam, suitable for ...  Danielle   \n",
              "4  771343  Royal Bed & Coffee Room with a very comfortabl...    Marcel   \n",
              "\n",
              "  neighbourhood_cleansed        room_type    price last_review  \n",
              "0             Noord-Oost     Private room   $61.00  2023-08-19  \n",
              "1             Westerpark  Entire home/apt  $327.00  2023-08-16  \n",
              "2             Westerpark     Private room  $109.00  2023-08-24  \n",
              "3                   Zuid  Entire home/apt  $290.00  2019-01-02  \n",
              "4           Centrum-West     Private room  $150.00  2023-09-01  "
            ],
            "text/html": [
              "\n",
              "  <div id=\"df-d3f49710-a2d3-47d0-aae8-98263a32d225\" class=\"colab-df-container\">\n",
              "    <div>\n",
              "<style scoped>\n",
              "    .dataframe tbody tr th:only-of-type {\n",
              "        vertical-align: middle;\n",
              "    }\n",
              "\n",
              "    .dataframe tbody tr th {\n",
              "        vertical-align: top;\n",
              "    }\n",
              "\n",
              "    .dataframe thead th {\n",
              "        text-align: right;\n",
              "    }\n",
              "</style>\n",
              "<table border=\"1\" class=\"dataframe\">\n",
              "  <thead>\n",
              "    <tr style=\"text-align: right;\">\n",
              "      <th></th>\n",
              "      <th>id</th>\n",
              "      <th>description</th>\n",
              "      <th>host_name</th>\n",
              "      <th>neighbourhood_cleansed</th>\n",
              "      <th>room_type</th>\n",
              "      <th>price</th>\n",
              "      <th>last_review</th>\n",
              "    </tr>\n",
              "  </thead>\n",
              "  <tbody>\n",
              "    <tr>\n",
              "      <th>0</th>\n",
              "      <td>761411</td>\n",
              "      <td>Really quiet, spacious and safe, a nice place ...</td>\n",
              "      <td>Xsjong</td>\n",
              "      <td>Noord-Oost</td>\n",
              "      <td>Private room</td>\n",
              "      <td>$61.00</td>\n",
              "      <td>2023-08-19</td>\n",
              "    </tr>\n",
              "    <tr>\n",
              "      <th>1</th>\n",
              "      <td>768274</td>\n",
              "      <td>Our cool and spacious loft is perfect for a st...</td>\n",
              "      <td>J &amp; R</td>\n",
              "      <td>Westerpark</td>\n",
              "      <td>Entire home/apt</td>\n",
              "      <td>$327.00</td>\n",
              "      <td>2023-08-16</td>\n",
              "    </tr>\n",
              "    <tr>\n",
              "      <th>2</th>\n",
              "      <td>768737</td>\n",
              "      <td>Room to rent in my houseboat. The room has a p...</td>\n",
              "      <td>Nicole</td>\n",
              "      <td>Westerpark</td>\n",
              "      <td>Private room</td>\n",
              "      <td>$109.00</td>\n",
              "      <td>2023-08-24</td>\n",
              "    </tr>\n",
              "    <tr>\n",
              "      <th>3</th>\n",
              "      <td>771217</td>\n",
              "      <td>Spacious houseboat in Amsterdam, suitable for ...</td>\n",
              "      <td>Danielle</td>\n",
              "      <td>Zuid</td>\n",
              "      <td>Entire home/apt</td>\n",
              "      <td>$290.00</td>\n",
              "      <td>2019-01-02</td>\n",
              "    </tr>\n",
              "    <tr>\n",
              "      <th>4</th>\n",
              "      <td>771343</td>\n",
              "      <td>Royal Bed &amp; Coffee Room with a very comfortabl...</td>\n",
              "      <td>Marcel</td>\n",
              "      <td>Centrum-West</td>\n",
              "      <td>Private room</td>\n",
              "      <td>$150.00</td>\n",
              "      <td>2023-09-01</td>\n",
              "    </tr>\n",
              "  </tbody>\n",
              "</table>\n",
              "</div>\n",
              "    <div class=\"colab-df-buttons\">\n",
              "\n",
              "  <div class=\"colab-df-container\">\n",
              "    <button class=\"colab-df-convert\" onclick=\"convertToInteractive('df-d3f49710-a2d3-47d0-aae8-98263a32d225')\"\n",
              "            title=\"Convert this dataframe to an interactive table.\"\n",
              "            style=\"display:none;\">\n",
              "\n",
              "  <svg xmlns=\"http://www.w3.org/2000/svg\" height=\"24px\" viewBox=\"0 -960 960 960\">\n",
              "    <path d=\"M120-120v-720h720v720H120Zm60-500h600v-160H180v160Zm220 220h160v-160H400v160Zm0 220h160v-160H400v160ZM180-400h160v-160H180v160Zm440 0h160v-160H620v160ZM180-180h160v-160H180v160Zm440 0h160v-160H620v160Z\"/>\n",
              "  </svg>\n",
              "    </button>\n",
              "\n",
              "  <style>\n",
              "    .colab-df-container {\n",
              "      display:flex;\n",
              "      gap: 12px;\n",
              "    }\n",
              "\n",
              "    .colab-df-convert {\n",
              "      background-color: #E8F0FE;\n",
              "      border: none;\n",
              "      border-radius: 50%;\n",
              "      cursor: pointer;\n",
              "      display: none;\n",
              "      fill: #1967D2;\n",
              "      height: 32px;\n",
              "      padding: 0 0 0 0;\n",
              "      width: 32px;\n",
              "    }\n",
              "\n",
              "    .colab-df-convert:hover {\n",
              "      background-color: #E2EBFA;\n",
              "      box-shadow: 0px 1px 2px rgba(60, 64, 67, 0.3), 0px 1px 3px 1px rgba(60, 64, 67, 0.15);\n",
              "      fill: #174EA6;\n",
              "    }\n",
              "\n",
              "    .colab-df-buttons div {\n",
              "      margin-bottom: 4px;\n",
              "    }\n",
              "\n",
              "    [theme=dark] .colab-df-convert {\n",
              "      background-color: #3B4455;\n",
              "      fill: #D2E3FC;\n",
              "    }\n",
              "\n",
              "    [theme=dark] .colab-df-convert:hover {\n",
              "      background-color: #434B5C;\n",
              "      box-shadow: 0px 1px 3px 1px rgba(0, 0, 0, 0.15);\n",
              "      filter: drop-shadow(0px 1px 2px rgba(0, 0, 0, 0.3));\n",
              "      fill: #FFFFFF;\n",
              "    }\n",
              "  </style>\n",
              "\n",
              "    <script>\n",
              "      const buttonEl =\n",
              "        document.querySelector('#df-d3f49710-a2d3-47d0-aae8-98263a32d225 button.colab-df-convert');\n",
              "      buttonEl.style.display =\n",
              "        google.colab.kernel.accessAllowed ? 'block' : 'none';\n",
              "\n",
              "      async function convertToInteractive(key) {\n",
              "        const element = document.querySelector('#df-d3f49710-a2d3-47d0-aae8-98263a32d225');\n",
              "        const dataTable =\n",
              "          await google.colab.kernel.invokeFunction('convertToInteractive',\n",
              "                                                    [key], {});\n",
              "        if (!dataTable) return;\n",
              "\n",
              "        const docLinkHtml = 'Like what you see? Visit the ' +\n",
              "          '<a target=\"_blank\" href=https://colab.research.google.com/notebooks/data_table.ipynb>data table notebook</a>'\n",
              "          + ' to learn more about interactive tables.';\n",
              "        element.innerHTML = '';\n",
              "        dataTable['output_type'] = 'display_data';\n",
              "        await google.colab.output.renderOutput(dataTable, element);\n",
              "        const docLink = document.createElement('div');\n",
              "        docLink.innerHTML = docLinkHtml;\n",
              "        element.appendChild(docLink);\n",
              "      }\n",
              "    </script>\n",
              "  </div>\n",
              "\n",
              "\n",
              "<div id=\"df-ee901322-60d9-4bf7-b9dc-31dcb76038c8\">\n",
              "  <button class=\"colab-df-quickchart\" onclick=\"quickchart('df-ee901322-60d9-4bf7-b9dc-31dcb76038c8')\"\n",
              "            title=\"Suggest charts.\"\n",
              "            style=\"display:none;\">\n",
              "\n",
              "<svg xmlns=\"http://www.w3.org/2000/svg\" height=\"24px\"viewBox=\"0 0 24 24\"\n",
              "     width=\"24px\">\n",
              "    <g>\n",
              "        <path d=\"M19 3H5c-1.1 0-2 .9-2 2v14c0 1.1.9 2 2 2h14c1.1 0 2-.9 2-2V5c0-1.1-.9-2-2-2zM9 17H7v-7h2v7zm4 0h-2V7h2v10zm4 0h-2v-4h2v4z\"/>\n",
              "    </g>\n",
              "</svg>\n",
              "  </button>\n",
              "\n",
              "<style>\n",
              "  .colab-df-quickchart {\n",
              "      --bg-color: #E8F0FE;\n",
              "      --fill-color: #1967D2;\n",
              "      --hover-bg-color: #E2EBFA;\n",
              "      --hover-fill-color: #174EA6;\n",
              "      --disabled-fill-color: #AAA;\n",
              "      --disabled-bg-color: #DDD;\n",
              "  }\n",
              "\n",
              "  [theme=dark] .colab-df-quickchart {\n",
              "      --bg-color: #3B4455;\n",
              "      --fill-color: #D2E3FC;\n",
              "      --hover-bg-color: #434B5C;\n",
              "      --hover-fill-color: #FFFFFF;\n",
              "      --disabled-bg-color: #3B4455;\n",
              "      --disabled-fill-color: #666;\n",
              "  }\n",
              "\n",
              "  .colab-df-quickchart {\n",
              "    background-color: var(--bg-color);\n",
              "    border: none;\n",
              "    border-radius: 50%;\n",
              "    cursor: pointer;\n",
              "    display: none;\n",
              "    fill: var(--fill-color);\n",
              "    height: 32px;\n",
              "    padding: 0;\n",
              "    width: 32px;\n",
              "  }\n",
              "\n",
              "  .colab-df-quickchart:hover {\n",
              "    background-color: var(--hover-bg-color);\n",
              "    box-shadow: 0 1px 2px rgba(60, 64, 67, 0.3), 0 1px 3px 1px rgba(60, 64, 67, 0.15);\n",
              "    fill: var(--button-hover-fill-color);\n",
              "  }\n",
              "\n",
              "  .colab-df-quickchart-complete:disabled,\n",
              "  .colab-df-quickchart-complete:disabled:hover {\n",
              "    background-color: var(--disabled-bg-color);\n",
              "    fill: var(--disabled-fill-color);\n",
              "    box-shadow: none;\n",
              "  }\n",
              "\n",
              "  .colab-df-spinner {\n",
              "    border: 2px solid var(--fill-color);\n",
              "    border-color: transparent;\n",
              "    border-bottom-color: var(--fill-color);\n",
              "    animation:\n",
              "      spin 1s steps(1) infinite;\n",
              "  }\n",
              "\n",
              "  @keyframes spin {\n",
              "    0% {\n",
              "      border-color: transparent;\n",
              "      border-bottom-color: var(--fill-color);\n",
              "      border-left-color: var(--fill-color);\n",
              "    }\n",
              "    20% {\n",
              "      border-color: transparent;\n",
              "      border-left-color: var(--fill-color);\n",
              "      border-top-color: var(--fill-color);\n",
              "    }\n",
              "    30% {\n",
              "      border-color: transparent;\n",
              "      border-left-color: var(--fill-color);\n",
              "      border-top-color: var(--fill-color);\n",
              "      border-right-color: var(--fill-color);\n",
              "    }\n",
              "    40% {\n",
              "      border-color: transparent;\n",
              "      border-right-color: var(--fill-color);\n",
              "      border-top-color: var(--fill-color);\n",
              "    }\n",
              "    60% {\n",
              "      border-color: transparent;\n",
              "      border-right-color: var(--fill-color);\n",
              "    }\n",
              "    80% {\n",
              "      border-color: transparent;\n",
              "      border-right-color: var(--fill-color);\n",
              "      border-bottom-color: var(--fill-color);\n",
              "    }\n",
              "    90% {\n",
              "      border-color: transparent;\n",
              "      border-bottom-color: var(--fill-color);\n",
              "    }\n",
              "  }\n",
              "</style>\n",
              "\n",
              "  <script>\n",
              "    async function quickchart(key) {\n",
              "      const quickchartButtonEl =\n",
              "        document.querySelector('#' + key + ' button');\n",
              "      quickchartButtonEl.disabled = true;  // To prevent multiple clicks.\n",
              "      quickchartButtonEl.classList.add('colab-df-spinner');\n",
              "      try {\n",
              "        const charts = await google.colab.kernel.invokeFunction(\n",
              "            'suggestCharts', [key], {});\n",
              "      } catch (error) {\n",
              "        console.error('Error during call to suggestCharts:', error);\n",
              "      }\n",
              "      quickchartButtonEl.classList.remove('colab-df-spinner');\n",
              "      quickchartButtonEl.classList.add('colab-df-quickchart-complete');\n",
              "    }\n",
              "    (() => {\n",
              "      let quickchartButtonEl =\n",
              "        document.querySelector('#df-ee901322-60d9-4bf7-b9dc-31dcb76038c8 button');\n",
              "      quickchartButtonEl.style.display =\n",
              "        google.colab.kernel.accessAllowed ? 'block' : 'none';\n",
              "    })();\n",
              "  </script>\n",
              "</div>\n",
              "    </div>\n",
              "  </div>\n"
            ]
          },
          "metadata": {},
          "execution_count": 29
        }
      ]
    },
    {
      "cell_type": "markdown",
      "source": [
        "Check if there are duplicates in dataframe.(if there are any duplicates handle them)."
      ],
      "metadata": {
        "id": "ECHXMQHA1kFT"
      }
    },
    {
      "cell_type": "code",
      "source": [
        "print(\"There are {} duplicates in the DataFrame.\".format(listings.duplicated().sum()))"
      ],
      "metadata": {
        "colab": {
          "base_uri": "https://localhost:8080/"
        },
        "id": "scioLkk2eELn",
        "outputId": "79ee5636-c55b-44b0-a874-ada15d078b0a"
      },
      "execution_count": 30,
      "outputs": [
        {
          "output_type": "stream",
          "name": "stdout",
          "text": [
            "There are 0 duplicates in the DataFrame.\n"
          ]
        }
      ]
    },
    {
      "cell_type": "markdown",
      "source": [
        "2. **CLEANING THE PRICE COLUMN**\n",
        "\n",
        "Having observed that the \"price\" attribute contains values with dollar symbols and commas.\n",
        "\n",
        "price\n",
        "\n",
        "\\$61.00\n",
        "\n",
        "\\$327.00\n",
        "\n",
        "\\$109.00\n",
        "\n",
        "we need to remove these symbols and commas in order to facilitate the use of aggregate functions on the numeric price.\n",
        "\n"
      ],
      "metadata": {
        "id": "81aV8mou2MYq"
      }
    },
    {
      "cell_type": "code",
      "source": [
        "listings[\"price\"] = listings[\"price\"].str.replace(\"$\", \"\")\n",
        "listings[\"price\"] = listings[\"price\"].str.replace(\",\", \"\")\n",
        "listings[\"price\"] = pd.to_numeric(listings[\"price\"])\n",
        "print(listings[\"price\"].head())\n",
        "print(listings[\"price\"].describe())"
      ],
      "metadata": {
        "colab": {
          "base_uri": "https://localhost:8080/"
        },
        "id": "WfDZQKQpeJSS",
        "outputId": "882417fd-032e-42d6-d91e-8956760d461e"
      },
      "execution_count": 31,
      "outputs": [
        {
          "output_type": "stream",
          "name": "stdout",
          "text": [
            "0     61.0\n",
            "1    327.0\n",
            "2    109.0\n",
            "3    290.0\n",
            "4    150.0\n",
            "Name: price, dtype: float64\n",
            "count     8386.000000\n",
            "mean       254.489864\n",
            "std        395.468275\n",
            "min         18.000000\n",
            "25%        150.000000\n",
            "50%        207.000000\n",
            "75%        300.000000\n",
            "max      27857.000000\n",
            "Name: price, dtype: float64\n"
          ]
        },
        {
          "output_type": "stream",
          "name": "stderr",
          "text": [
            "<ipython-input-31-e025af3f4bc6>:1: FutureWarning: The default value of regex will change from True to False in a future version. In addition, single character regular expressions will *not* be treated as literal strings when regex=True.\n",
            "  listings[\"price\"] = listings[\"price\"].str.replace(\"$\", \"\")\n"
          ]
        }
      ]
    },
    {
      "cell_type": "markdown",
      "source": [
        "3. **CALCULATING THE AVERAGE PRICE PER NIGHT**\n",
        "\n",
        "In the dataset, three-quarters of the listings are priced at \\$300 per night.\n",
        "\n",
        " However, it's important to note the presence of outliers, such as a maximum nightly rate of \\$27,857. Conversely, the minimum price per night is as low as \\$18.\n",
        "\n",
        "Now, let's proceed with an analysis of the average nightly price."
      ],
      "metadata": {
        "id": "_N3ITosh24Sm"
      }
    },
    {
      "cell_type": "code",
      "source": [
        "avg_price = round(listings[\"price\"].mean(),2)\n",
        "print(\"The average price per night for an Airbnb listing in NYC is ${}.\".format(avg_price))"
      ],
      "metadata": {
        "colab": {
          "base_uri": "https://localhost:8080/"
        },
        "id": "aDtBpFRDeLpL",
        "outputId": "e424054b-76f4-4c86-d4a3-d4dab4d1ccee"
      },
      "execution_count": 32,
      "outputs": [
        {
          "output_type": "stream",
          "name": "stdout",
          "text": [
            "The average price per night for an Airbnb listing in NYC is $254.49.\n"
          ]
        }
      ]
    },
    {
      "cell_type": "markdown",
      "source": [
        "4. **COMPARING COSTS TO THE PRIVATE RENTAL MARKET**\n",
        "\n",
        "Having obtained the average nightly cost of a listing, it is beneficial to establish a benchmark for comparative analysis. According to Chat GPT, the average monthly cost of a 1-bedroom apartment in New York City is \\$2,256. To enable a meaningful comparison with the private market, we should transform the nightly prices of our listings into monthly expenses. This conversion will facilitate a data-driven assessment."
      ],
      "metadata": {
        "id": "pUuz86vn6GFY"
      }
    },
    {
      "cell_type": "code",
      "source": [
        "listings[\"price_per_month\"] = listings[\"price\"] * 365 / 12\n",
        "average_price_per_month = round(listings[\"price_per_month\"].mean(),2)\n",
        "print(\"Airbnb monthly costs are ${}, while(according to Chat-GPT)in the private market you would pay {}.\".format(average_price_per_month, \"$2256.00\"))"
      ],
      "metadata": {
        "colab": {
          "base_uri": "https://localhost:8080/"
        },
        "id": "05wrGulOeMVv",
        "outputId": "3c1d008f-c624-40b5-ad86-02399e8532f5"
      },
      "execution_count": 33,
      "outputs": [
        {
          "output_type": "stream",
          "name": "stdout",
          "text": [
            "Airbnb monthly costs are $7740.73, while(according to Chat-GPT)in the private market you would pay $2256.00.\n"
          ]
        }
      ]
    },
    {
      "cell_type": "markdown",
      "source": [
        "5. **CLEANING THE room_type COLUMN**\n",
        "\n",
        "Predictably, utilizing Airbnb is evidently associated with considerably higher costs in comparison to the private rental market.\n",
        "\n",
        "Nevertheless, it's imperative to acknowledge that these Airbnb listings encompass a variety of accommodation types, including single private rooms, shared rooms, and entire homes/apartments.\n",
        "\n",
        "To gain a more profound understanding, let's perform a detailed analysis of the \"room_type\" column to discern the distribution of listings based on room types.\n",
        "\n",
        "It's worth noting that the \"room_type\" column exhibits variations in the representation of private room listings, specifically \"Private room,\" \"private room,\" and \"PRIVATE ROOM.\"\n",
        "\n",
        "This can be efficiently addressed by standardizing the text to lowercase, which is a common practice in data preprocessing for uniformity and consistency.\n",
        "\n"
      ],
      "metadata": {
        "id": "mgaV3V0L7OQ4"
      }
    },
    {
      "cell_type": "code",
      "source": [
        "listings[\"room_type\"] = listings[\"room_type\"].str.lower()\n",
        "listings[\"room_type\"] = listings[\"room_type\"].astype(\"category\")\n",
        "room_frequencies = listings[\"room_type\"].value_counts()\n",
        "print(room_frequencies)"
      ],
      "metadata": {
        "colab": {
          "base_uri": "https://localhost:8080/"
        },
        "id": "rQX711G4eRfW",
        "outputId": "88b0498a-904c-43ca-f6ae-21c8c81e17de"
      },
      "execution_count": 34,
      "outputs": [
        {
          "output_type": "stream",
          "name": "stdout",
          "text": [
            "entire home/apt    6477\n",
            "private room       1813\n",
            "hotel room           54\n",
            "shared room          42\n",
            "Name: room_type, dtype: int64\n"
          ]
        }
      ]
    },
    {
      "cell_type": "markdown",
      "source": [
        "6. **WHAT TIMEFRAME ARE WE WORKING WITH?**\n",
        "\n",
        "The analysis indicates a market opportunity predominantly focused on homes and apartments, with entire homes/apartments accounting for 76% of listings, followed by private rooms at 22% on the Airbnb platform in NYC.\n",
        "\n",
        "For the \"last_review\" column, which contains review dates in the \"Year Month Date\" format (e.g., 2013-08-19), it is imperative to identify the earliest and latest review dates within the DataFrame.\n",
        "\n",
        "Additionally, it is essential to format the data in a manner conducive to seamless analysis in the future."
      ],
      "metadata": {
        "id": "7C8RwN8Q8WIT"
      }
    },
    {
      "cell_type": "code",
      "source": [
        "listings[\"last_review\"] = pd.to_datetime(listings[\"last_review\"], format=\"%Y-%m-%d\")\n",
        "# Drop rows with missing last_review values\n",
        "listings = listings.dropna(subset=[\"last_review\"])\n",
        "oldest_review = listings[\"last_review\"].dt.date.min()\n",
        "latest_review = listings[\"last_review\"].dt.date.max()\n",
        "print(\"The latest Airbnb review is {}, the earliest review is {}\".format(latest_review, oldest_review))"
      ],
      "metadata": {
        "colab": {
          "base_uri": "https://localhost:8080/"
        },
        "id": "Qm7OM8mUeU67",
        "outputId": "7f4e1c03-2de2-4c5d-f1d6-364cebbe70d2"
      },
      "execution_count": 35,
      "outputs": [
        {
          "output_type": "stream",
          "name": "stdout",
          "text": [
            "The latest Airbnb review is 2023-09-03, the earliest review is 2013-08-19\n"
          ]
        }
      ]
    },
    {
      "cell_type": "markdown",
      "source": [
        "7. **ANALYZING LISTING PRICES BY AMSTERDAM neighbourhood_cleansed**\n",
        "\n",
        "Let's now shift our focus to comprehending the price disparities among various \"neighbourhood_cleansed\" categories in the dataset, employing data science terminology for a more precise analysis."
      ],
      "metadata": {
        "id": "VJreIndu-Y3B"
      }
    },
    {
      "cell_type": "code",
      "source": [
        "neighbourhood_cleansed = listings.groupby(\"neighbourhood_cleansed\")[\"price\"].agg([\"sum\", \"mean\", \"median\", \"count\"])\n",
        "neighbourhood_cleansed = neighbourhood_cleansed.round(2).sort_values(\"mean\", ascending=False)\n",
        "print(neighbourhood_cleansed)"
      ],
      "metadata": {
        "colab": {
          "base_uri": "https://localhost:8080/"
        },
        "id": "PCq2_yQ_eXwV",
        "outputId": "07f191ec-c418-4bd5-bb75-96dcc8c134a8"
      },
      "execution_count": 36,
      "outputs": [
        {
          "output_type": "stream",
          "name": "stdout",
          "text": [
            "                                             sum    mean  median  count\n",
            "neighbourhood_cleansed                                                 \n",
            "Centrum-West                            282865.0  300.28   238.5    942\n",
            "Centrum-Oost                            208535.0  285.66   225.0    730\n",
            "De Pijp - Rivierenbuurt                 226526.0  267.76   238.0    846\n",
            "Zuid                                    135136.0  264.45   225.0    511\n",
            "De Baarsjes - Oud-West                  303314.0  241.88   210.0   1254\n",
            "IJburg - Zeeburgereiland                 39149.0  238.71   200.0    164\n",
            "Watergraafsmeer                          50652.0  230.24   199.5    220\n",
            "Oud-Oost                                106015.0  229.97   199.0    461\n",
            "Westerpark                              120581.0  227.94   200.0    529\n",
            "Oud-Noord                                75440.0  212.51   189.0    355\n",
            "Buitenveldert - Zuidas                   15217.0  200.22   185.0     76\n",
            "Oostelijk Havengebied - Indische Buurt   57246.0  200.16   180.0    286\n",
            "De Aker - Nieuw Sloten                   12995.0  196.89   113.5     66\n",
            "Bos en Lommer                            73780.0  196.22   183.5    376\n",
            "Noord-West                               36689.0  186.24   172.0    197\n",
            "Noord-Oost                               22758.0  185.02   160.0    123\n",
            "Slotervaart                              27042.0  180.28   157.0    150\n",
            "Geuzenveld - Slotermeer                  17872.0  171.85   151.0    104\n",
            "Osdorp                                    6925.0  168.90   125.0     41\n",
            "Bijlmer-Oost                              5571.0  168.82   150.0     33\n",
            "Bijlmer-Centrum                           6479.0  143.98   125.0     45\n",
            "Gaasperdam - Driemond                     6587.0  140.15   115.0     47\n"
          ]
        }
      ]
    },
    {
      "cell_type": "code",
      "source": [
        "# This is to print whole output without truncation.\n",
        "pd.set_option('display.max_rows', None)\n",
        "pd.set_option('display.max_columns', None)"
      ],
      "metadata": {
        "id": "uQEGn_PEeaON"
      },
      "execution_count": 37,
      "outputs": []
    },
    {
      "cell_type": "markdown",
      "source": [
        "8. **PRICE RANGE BY neighbourhood_cleansed**\n",
        "\n",
        "In this concluding task, our objective is to categorize listings based on specific price ranges within the 'neighbourhood_cleansed'. We shall accomplish this by leveraging percentiles and labels to introduce a novel column, 'price_range,' into the DataFrame.\n",
        "\n",
        "After the label creation, we will proceed to group the data and compute the frequency of listings falling into distinct price ranges for each 'neighbourhood_cleansed.'\n",
        "\n",
        "Our categorization will adhere to the following categories and associated price intervals:\n",
        "\n",
        "**label**\t**price**\n",
        "\n",
        "Budget\t    \\$0-69\n",
        "\n",
        "Average\t    \\$70-175\n",
        "\n",
        "Expensive\t  \\$176-350\n",
        "\n",
        "Extravagant\t > \\$350"
      ],
      "metadata": {
        "id": "Xy91s925_pbQ"
      }
    },
    {
      "cell_type": "code",
      "source": [
        "label_names = [\"Budget\", \"Average\", \"Expensive\", \"Extravagant\"]\n",
        "ranges = [0, 69, 175, 350, np.inf]\n",
        "listings[\"price_range\"] = pd.cut(listings[\"price\"], bins=ranges, labels=label_names)\n",
        "prices_by_neighbourhood_cleansed = listings.groupby([\"neighbourhood_cleansed\", \"price_range\"])[\"price_range\"].agg(\"count\")\n",
        "print(prices_by_neighbourhood_cleansed)"
      ],
      "metadata": {
        "colab": {
          "base_uri": "https://localhost:8080/"
        },
        "id": "P0q30P-Yedgz",
        "outputId": "5b0fcea0-9bad-4fcb-848c-0048e8bd2b08"
      },
      "execution_count": 38,
      "outputs": [
        {
          "output_type": "stream",
          "name": "stdout",
          "text": [
            "neighbourhood_cleansed                  price_range\n",
            "Bijlmer-Centrum                         Budget           6\n",
            "                                        Average         26\n",
            "                                        Expensive       11\n",
            "                                        Extravagant      2\n",
            "Bijlmer-Oost                            Budget           1\n",
            "                                        Average         22\n",
            "                                        Expensive        9\n",
            "                                        Extravagant      1\n",
            "Bos en Lommer                           Budget          12\n",
            "                                        Average        157\n",
            "                                        Expensive      182\n",
            "                                        Extravagant     25\n",
            "Buitenveldert - Zuidas                  Budget           3\n",
            "                                        Average         29\n",
            "                                        Expensive       38\n",
            "                                        Extravagant      6\n",
            "Centrum-Oost                            Budget           4\n",
            "                                        Average        214\n",
            "                                        Expensive      333\n",
            "                                        Extravagant    179\n",
            "Centrum-West                            Budget          10\n",
            "                                        Average        273\n",
            "                                        Expensive      459\n",
            "                                        Extravagant    200\n",
            "De Aker - Nieuw Sloten                  Budget           7\n",
            "                                        Average         37\n",
            "                                        Expensive       14\n",
            "                                        Extravagant      8\n",
            "De Baarsjes - Oud-West                  Budget          11\n",
            "                                        Average        411\n",
            "                                        Expensive      654\n",
            "                                        Extravagant    178\n",
            "De Pijp - Rivierenbuurt                 Budget           2\n",
            "                                        Average        214\n",
            "                                        Expensive      460\n",
            "                                        Extravagant    170\n",
            "Gaasperdam - Driemond                   Budget           7\n",
            "                                        Average         29\n",
            "                                        Expensive       11\n",
            "                                        Extravagant      0\n",
            "Geuzenveld - Slotermeer                 Budget           4\n",
            "                                        Average         60\n",
            "                                        Expensive       38\n",
            "                                        Extravagant      2\n",
            "IJburg - Zeeburgereiland                Budget           4\n",
            "                                        Average         69\n",
            "                                        Expensive       66\n",
            "                                        Extravagant     25\n",
            "Noord-Oost                              Budget           5\n",
            "                                        Average         67\n",
            "                                        Expensive       41\n",
            "                                        Extravagant     10\n",
            "Noord-West                              Budget           4\n",
            "                                        Average        101\n",
            "                                        Expensive       83\n",
            "                                        Extravagant      9\n",
            "Oostelijk Havengebied - Indische Buurt  Budget           7\n",
            "                                        Average        131\n",
            "                                        Expensive      131\n",
            "                                        Extravagant     17\n",
            "Osdorp                                  Budget           4\n",
            "                                        Average         21\n",
            "                                        Expensive       13\n",
            "                                        Extravagant      3\n",
            "Oud-Noord                               Budget          19\n",
            "                                        Average        145\n",
            "                                        Expensive      160\n",
            "                                        Extravagant     31\n",
            "Oud-Oost                                Budget           3\n",
            "                                        Average        176\n",
            "                                        Expensive      224\n",
            "                                        Extravagant     58\n",
            "Slotervaart                             Budget          13\n",
            "                                        Average         71\n",
            "                                        Expensive       59\n",
            "                                        Extravagant      7\n",
            "Watergraafsmeer                         Budget           4\n",
            "                                        Average         82\n",
            "                                        Expensive      105\n",
            "                                        Extravagant     29\n",
            "Westerpark                              Budget           6\n",
            "                                        Average        191\n",
            "                                        Expensive      277\n",
            "                                        Extravagant     55\n",
            "Zuid                                    Budget           5\n",
            "                                        Average        162\n",
            "                                        Expensive      237\n",
            "                                        Extravagant    107\n",
            "Name: price_range, dtype: int64\n"
          ]
        }
      ]
    }
  ]
}